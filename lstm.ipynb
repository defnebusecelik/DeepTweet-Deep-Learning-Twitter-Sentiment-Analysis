{
  "nbformat": 4,
  "nbformat_minor": 0,
  "metadata": {
    "colab": {
      "provenance": []
    },
    "kernelspec": {
      "name": "python3",
      "display_name": "Python 3"
    },
    "language_info": {
      "name": "python"
    }
  },
  "cells": [
    {
      "cell_type": "code",
      "execution_count": null,
      "metadata": {
        "colab": {
          "base_uri": "https://localhost:8080/"
        },
        "id": "jG8QGb-lf2Lf",
        "outputId": "a24f94fa-881b-4221-fc71-f8bc651c1bf6"
      },
      "outputs": [
        {
          "output_type": "stream",
          "name": "stdout",
          "text": [
            "Columns: Sentiment, Id, Date, Flag, User, Tweet\n",
            "Useful columns: Sentiment and Tweet\n",
            "Removing other columns\n",
            "Columns removed\n",
            "Splitting train and test dataset into 80:20\n",
            "Train data distribution:\n",
            "Sentiment\n",
            "4    640434\n",
            "0    639566\n",
            "Name: count, dtype: int64\n",
            "Test data distribution:\n",
            "Sentiment\n",
            "0    160434\n",
            "4    159566\n",
            "Name: count, dtype: int64\n",
            "Split complete\n",
            "Saving train data\n",
            "Train data saved to train.csv\n",
            "Saving test data\n",
            "Test data saved to test.csv\n"
          ]
        }
      ],
      "source": [
        "import pandas as pd\n",
        "from termcolor import colored\n",
        "from sklearn.model_selection import train_test_split\n",
        "\n",
        "# Define variables\n",
        "COLUMNS = ['Sentiment', 'Id', 'Date', 'Flag', 'User', 'Tweet']\n",
        "\n",
        "# Read dataset\n",
        "dataset = pd.read_csv('dataset.csv', names = COLUMNS, encoding = 'latin-1')\n",
        "print(colored(\"Columns: {}\".format(', '.join(COLUMNS)), \"yellow\"))\n",
        "\n",
        "# Remove extra columns\n",
        "print(colored(\"Useful columns: Sentiment and Tweet\", \"yellow\"))\n",
        "print(colored(\"Removing other columns\", \"red\"))\n",
        "dataset.drop(['Id', 'Date', 'Flag', 'User'], axis = 1, inplace = True)\n",
        "print(colored(\"Columns removed\", \"red\"))\n",
        "\n",
        "# Train test split\n",
        "print(colored(\"Splitting train and test dataset into 80:20\", \"yellow\"))\n",
        "X_train, X_test, y_train, y_test = train_test_split(dataset['Tweet'], dataset['Sentiment'], test_size = 0.20, random_state = 100)\n",
        "train_dataset = pd.DataFrame({\n",
        "\t'Tweet': X_train,\n",
        "\t'Sentiment': y_train\n",
        "\t})\n",
        "print(colored(\"Train data distribution:\", \"yellow\"))\n",
        "print(train_dataset['Sentiment'].value_counts())\n",
        "test_dataset = pd.DataFrame({\n",
        "\t'Tweet': X_test,\n",
        "\t'Sentiment': y_test\n",
        "\t})\n",
        "print(colored(\"Test data distribution:\", \"yellow\"))\n",
        "print(test_dataset['Sentiment'].value_counts())\n",
        "print(colored(\"Split complete\", \"yellow\"))\n",
        "\n",
        "# Save train data\n",
        "print(colored(\"Saving train data\", \"yellow\"))\n",
        "\n",
        "train_dataset.to_csv('train.csv', index = False)\n",
        "print(colored(\"Train data saved to train.csv\", \"green\"))\n",
        "\n",
        "# Save test data\n",
        "print(colored(\"Saving test data\", \"yellow\"))\n",
        "test_dataset.to_csv('test.csv', index = False)\n",
        "print(colored(\"Test data saved to test.csv\", \"green\"))"
      ]
    },
    {
      "cell_type": "code",
      "source": [
        "import re\n",
        "import nltk\n",
        "import numpy as np\n",
        "import pandas as pd\n",
        "nltk.download('wordnet')\n",
        "nltk.download('stopwords')\n",
        "from nltk.corpus import stopwords\n",
        "from termcolor import colored\n",
        "from nltk.stem import PorterStemmer\n",
        "from nltk.stem import WordNetLemmatizer\n",
        "\n",
        "# Import datasets\n",
        "print(\"Loading data\")\n",
        "train_data = pd.read_csv('train.csv')\n",
        "test_data = pd.read_csv('test.csv')\n",
        "\n",
        "# Setting stopwords\n",
        "STOPWORDS = set(stopwords.words('english'))\n",
        "STOPWORDS.remove(\"not\")\n",
        "\n",
        "# Function to expand tweet\n",
        "def expand_tweet(tweet):\n",
        "\texpanded_tweet = []\n",
        "\tfor word in tweet:\n",
        "\t\tif re.search(\"n't\", word):\n",
        "\t\t\texpanded_tweet.append(word.split(\"n't\")[0])\n",
        "\t\t\texpanded_tweet.append(\"not\")\n",
        "\t\telse:\n",
        "\t\t\texpanded_tweet.append(word)\n",
        "\treturn expanded_tweet\n",
        "\n",
        "# Function to process tweets\n",
        "def clean_tweet(data, wordNetLemmatizer, porterStemmer):\n",
        "\tdata['Clean_tweet'] = data['Tweet']\n",
        "\tprint(colored(\"Removing user handles starting with @\", \"yellow\"))\n",
        "\tdata['Clean_tweet'] = data['Clean_tweet'].str.replace(\"@[\\w]*\",\"\")\n",
        "\tprint(colored(\"Removing numbers and special characters\", \"yellow\"))\n",
        "\tdata['Clean_tweet'] = data['Clean_tweet'].str.replace(\"[^a-zA-Z' ]\",\"\")\n",
        "\tprint(colored(\"Removing urls\", \"yellow\"))\n",
        "\tdata['Clean_tweet'] = data['Clean_tweet'].replace(re.compile(r\"((www\\.[^\\s]+)|(https?://[^\\s]+))\"), \"\")\n",
        "\tprint(colored(\"Removing single characters\", \"yellow\"))\n",
        "\tdata['Clean_tweet'] = data['Clean_tweet'].replace(re.compile(r\"(^| ).( |$)\"), \" \")\n",
        "\tprint(colored(\"Tokenizing\", \"yellow\"))\n",
        "\tdata['Clean_tweet'] = data['Clean_tweet'].str.split()\n",
        "\tprint(colored(\"Removing stopwords\", \"yellow\"))\n",
        "\tdata['Clean_tweet'] = data['Clean_tweet'].apply(lambda tweet: [word for word in tweet if word not in STOPWORDS])\n",
        "\tprint(colored(\"Expanding not words\", \"yellow\"))\n",
        "\tdata['Clean_tweet'] = data['Clean_tweet'].apply(lambda tweet: expand_tweet(tweet))\n",
        "\tprint(colored(\"Lemmatizing the words\", \"yellow\"))\n",
        "\tdata['Clean_tweet'] = data['Clean_tweet'].apply(lambda tweet: [wordNetLemmatizer.lemmatize(word) for word in tweet])\n",
        "\tprint(colored(\"Stemming the words\", \"yellow\"))\n",
        "\tdata['Clean_tweet'] = data['Clean_tweet'].apply(lambda tweet: [porterStemmer.stem(word) for word in tweet])\n",
        "\tprint(colored(\"Combining words back to tweets\", \"yellow\"))\n",
        "\tdata['Clean_tweet'] = data['Clean_tweet'].apply(lambda tweet: ' '.join(tweet))\n",
        "\treturn data\n",
        "\n",
        "# Define processing methods\n",
        "wordNetLemmatizer = WordNetLemmatizer()\n",
        "porterStemmer = PorterStemmer()\n",
        "\n",
        "# Pre-processing the tweets\n",
        "print(colored(\"Processing train data\", \"green\"))\n",
        "train_data = clean_tweet(train_data, wordNetLemmatizer, porterStemmer)\n",
        "train_data.to_csv('clean_train.csv', index = False)\n",
        "print(colored(\"Train data processed and saved to clean_train.csv\", \"green\"))\n",
        "print(colored(\"Processing test data\", \"green\"))\n",
        "test_data = clean_tweet(test_data, wordNetLemmatizer, porterStemmer)\n",
        "test_data.to_csv('clean_test.csv', index = False)\n",
        "print(colored(\"Test data processed and saved to clean_test.csv\", \"green\"))"
      ],
      "metadata": {
        "colab": {
          "base_uri": "https://localhost:8080/"
        },
        "id": "u9n8BhHChZ1u",
        "outputId": "12d7dc45-7bed-43ff-d1a6-70f151a17462"
      },
      "execution_count": null,
      "outputs": [
        {
          "output_type": "stream",
          "name": "stderr",
          "text": [
            "[nltk_data] Downloading package wordnet to /root/nltk_data...\n",
            "[nltk_data] Downloading package stopwords to /root/nltk_data...\n",
            "[nltk_data]   Unzipping corpora/stopwords.zip.\n"
          ]
        },
        {
          "output_type": "stream",
          "name": "stdout",
          "text": [
            "Loading data\n",
            "Processing train data\n",
            "Removing user handles starting with @\n",
            "Removing numbers and special characters\n",
            "Removing urls\n",
            "Removing single characters\n",
            "Tokenizing\n",
            "Removing stopwords\n",
            "Expanding not words\n",
            "Lemmatizing the words\n",
            "Stemming the words\n",
            "Combining words back to tweets\n",
            "Train data processed and saved to clean_train.csv\n",
            "Processing test data\n",
            "Removing user handles starting with @\n",
            "Removing numbers and special characters\n",
            "Removing urls\n",
            "Removing single characters\n",
            "Tokenizing\n",
            "Removing stopwords\n",
            "Expanding not words\n",
            "Lemmatizing the words\n",
            "Stemming the words\n",
            "Combining words back to tweets\n",
            "Test data processed and saved to clean_test.csv\n"
          ]
        }
      ]
    },
    {
      "cell_type": "code",
      "source": [
        "import os\n",
        "import tensorflow\n",
        "os.environ['KERAS_BACKEND'] = 'tensorflow'\n",
        "\n",
        "import keras\n",
        "from tensorflow.keras.models import Sequential\n",
        "from tensorflow.keras.layers import Dense, Embedding, LSTM, SpatialDropout1D\n",
        "\n",
        "from tensorflow.keras.preprocessing.text import Tokenizer\n",
        "from tensorflow.keras.preprocessing.sequence import pad_sequences\n",
        "\n",
        "\n",
        "\n",
        "\n",
        "import pandas as pd\n",
        "from termcolor import colored\n",
        "\n",
        "# Load data\n",
        "print(colored(\"Loading train and test data\", \"yellow\"))\n",
        "train_data = pd.read_csv('clean_train.csv')\n",
        "test_data = pd.read_csv('clean_test.csv')\n",
        "print(colored(\"Data loaded\", \"yellow\"))"
      ],
      "metadata": {
        "colab": {
          "base_uri": "https://localhost:8080/"
        },
        "id": "dr5uBv8ejBII",
        "outputId": "dc1a3ef1-c07f-4c9f-aacc-e285c5584ecd"
      },
      "execution_count": null,
      "outputs": [
        {
          "output_type": "stream",
          "name": "stdout",
          "text": [
            "Loading train and test data\n",
            "Data loaded\n"
          ]
        }
      ]
    },
    {
      "cell_type": "code",
      "source": [
        "# Orijinal küme:\n",
        "full_train = pd.read_csv('clean_train.csv')\n",
        "\n",
        "# Yalnızca bir kez %25 altküme al:\n",
        "subsampled_train = (\n",
        "    full_train\n",
        "    .groupby('Sentiment', group_keys=False)\n",
        "    .sample(frac=0.25, random_state=100)\n",
        "    .reset_index(drop=True)\n",
        ")\n",
        "\n",
        "print(subsampled_train['Sentiment'].value_counts())\n",
        "# → 4: ~160 000, 0: ~160 000\n"
      ],
      "metadata": {
        "colab": {
          "base_uri": "https://localhost:8080/"
        },
        "id": "wPcuBPz-jiEj",
        "outputId": "26aac6be-285f-4b95-da36-dce0dc9e7176"
      },
      "execution_count": null,
      "outputs": [
        {
          "output_type": "stream",
          "name": "stdout",
          "text": [
            "Sentiment\n",
            "4    160108\n",
            "0    159892\n",
            "Name: count, dtype: int64\n"
          ]
        }
      ]
    },
    {
      "cell_type": "code",
      "source": [
        "# Tokenization\n",
        "print(colored(\"Tokenizing and padding data\", \"yellow\"))\n",
        "tokenizer = Tokenizer(num_words = 2000, split = ' ')\n",
        "tokenizer.fit_on_texts(train_data['Clean_tweet'].astype(str).values)\n",
        "train_tweets = tokenizer.texts_to_sequences(train_data['Clean_tweet'].astype(str).values)\n",
        "max_len = max([len(i) for i in train_tweets])\n",
        "train_tweets = pad_sequences(train_tweets, maxlen = max_len)\n",
        "test_tweets = tokenizer.texts_to_sequences(test_data['Clean_tweet'].astype(str).values)\n",
        "test_tweets = pad_sequences(test_tweets, maxlen = max_len)\n",
        "print(colored(\"Tokenizing and padding complete\", \"yellow\"))"
      ],
      "metadata": {
        "colab": {
          "base_uri": "https://localhost:8080/"
        },
        "id": "Xv84n6DikA21",
        "outputId": "79c14639-a1ba-45c8-eb9d-19e2a8aaa98d"
      },
      "execution_count": null,
      "outputs": [
        {
          "output_type": "stream",
          "name": "stdout",
          "text": [
            "Tokenizing and padding data\n",
            "Tokenizing and padding complete\n"
          ]
        }
      ]
    },
    {
      "cell_type": "markdown",
      "source": [
        "- **Embedding**  \n",
        "- **SpatialDropout1D**  \n",
        "- **LSTM**  \n",
        "  - `units=256`  \n",
        "  - `dropout=0.2`  \n",
        "- **Dense**  \n",
        "  - `units=2`  \n",
        "  - `activation='softmax'`  \n"
      ],
      "metadata": {
        "id": "zrtLmkg_e2fE"
      }
    },
    {
      "cell_type": "code",
      "source": [
        "# Building the model\n",
        "print(colored(\"Creating the LSTM model\", \"yellow\"))\n",
        "model = Sequential()\n",
        "model.add(Embedding(input_dim=2000, output_dim=128, input_shape=(train_tweets.shape[1],)))\n",
        "model.add(SpatialDropout1D(0.4))\n",
        "model.add(LSTM(256, dropout=0.2))\n",
        "model.add(Dense(2, activation='softmax'))\n",
        "model.compile(loss='categorical_crossentropy', optimizer='adam', metrics=['accuracy'])\n",
        "model.summary()"
      ],
      "metadata": {
        "colab": {
          "base_uri": "https://localhost:8080/",
          "height": 361
        },
        "id": "0rwKh2KSjJaO",
        "outputId": "453b54de-b7b1-4de9-86e8-618442383f4f"
      },
      "execution_count": null,
      "outputs": [
        {
          "output_type": "stream",
          "name": "stdout",
          "text": [
            "Creating the LSTM model\n"
          ]
        },
        {
          "output_type": "stream",
          "name": "stderr",
          "text": [
            "/usr/local/lib/python3.11/dist-packages/keras/src/layers/core/embedding.py:93: UserWarning: Do not pass an `input_shape`/`input_dim` argument to a layer. When using Sequential models, prefer using an `Input(shape)` object as the first layer in the model instead.\n",
            "  super().__init__(**kwargs)\n"
          ]
        },
        {
          "output_type": "display_data",
          "data": {
            "text/plain": [
              "\u001b[1mModel: \"sequential_1\"\u001b[0m\n"
            ],
            "text/html": [
              "<pre style=\"white-space:pre;overflow-x:auto;line-height:normal;font-family:Menlo,'DejaVu Sans Mono',consolas,'Courier New',monospace\"><span style=\"font-weight: bold\">Model: \"sequential_1\"</span>\n",
              "</pre>\n"
            ]
          },
          "metadata": {}
        },
        {
          "output_type": "display_data",
          "data": {
            "text/plain": [
              "┏━━━━━━━━━━━━━━━━━━━━━━━━━━━━━━━━━┳━━━━━━━━━━━━━━━━━━━━━━━━┳━━━━━━━━━━━━━━━┓\n",
              "┃\u001b[1m \u001b[0m\u001b[1mLayer (type)                   \u001b[0m\u001b[1m \u001b[0m┃\u001b[1m \u001b[0m\u001b[1mOutput Shape          \u001b[0m\u001b[1m \u001b[0m┃\u001b[1m \u001b[0m\u001b[1m      Param #\u001b[0m\u001b[1m \u001b[0m┃\n",
              "┡━━━━━━━━━━━━━━━━━━━━━━━━━━━━━━━━━╇━━━━━━━━━━━━━━━━━━━━━━━━╇━━━━━━━━━━━━━━━┩\n",
              "│ embedding_1 (\u001b[38;5;33mEmbedding\u001b[0m)         │ (\u001b[38;5;45mNone\u001b[0m, \u001b[38;5;34m40\u001b[0m, \u001b[38;5;34m128\u001b[0m)        │       \u001b[38;5;34m256,000\u001b[0m │\n",
              "├─────────────────────────────────┼────────────────────────┼───────────────┤\n",
              "│ spatial_dropout1d_1             │ (\u001b[38;5;45mNone\u001b[0m, \u001b[38;5;34m40\u001b[0m, \u001b[38;5;34m128\u001b[0m)        │             \u001b[38;5;34m0\u001b[0m │\n",
              "│ (\u001b[38;5;33mSpatialDropout1D\u001b[0m)              │                        │               │\n",
              "├─────────────────────────────────┼────────────────────────┼───────────────┤\n",
              "│ lstm_1 (\u001b[38;5;33mLSTM\u001b[0m)                   │ (\u001b[38;5;45mNone\u001b[0m, \u001b[38;5;34m256\u001b[0m)            │       \u001b[38;5;34m394,240\u001b[0m │\n",
              "├─────────────────────────────────┼────────────────────────┼───────────────┤\n",
              "│ dense_1 (\u001b[38;5;33mDense\u001b[0m)                 │ (\u001b[38;5;45mNone\u001b[0m, \u001b[38;5;34m2\u001b[0m)              │           \u001b[38;5;34m514\u001b[0m │\n",
              "└─────────────────────────────────┴────────────────────────┴───────────────┘\n"
            ],
            "text/html": [
              "<pre style=\"white-space:pre;overflow-x:auto;line-height:normal;font-family:Menlo,'DejaVu Sans Mono',consolas,'Courier New',monospace\">┏━━━━━━━━━━━━━━━━━━━━━━━━━━━━━━━━━┳━━━━━━━━━━━━━━━━━━━━━━━━┳━━━━━━━━━━━━━━━┓\n",
              "┃<span style=\"font-weight: bold\"> Layer (type)                    </span>┃<span style=\"font-weight: bold\"> Output Shape           </span>┃<span style=\"font-weight: bold\">       Param # </span>┃\n",
              "┡━━━━━━━━━━━━━━━━━━━━━━━━━━━━━━━━━╇━━━━━━━━━━━━━━━━━━━━━━━━╇━━━━━━━━━━━━━━━┩\n",
              "│ embedding_1 (<span style=\"color: #0087ff; text-decoration-color: #0087ff\">Embedding</span>)         │ (<span style=\"color: #00d7ff; text-decoration-color: #00d7ff\">None</span>, <span style=\"color: #00af00; text-decoration-color: #00af00\">40</span>, <span style=\"color: #00af00; text-decoration-color: #00af00\">128</span>)        │       <span style=\"color: #00af00; text-decoration-color: #00af00\">256,000</span> │\n",
              "├─────────────────────────────────┼────────────────────────┼───────────────┤\n",
              "│ spatial_dropout1d_1             │ (<span style=\"color: #00d7ff; text-decoration-color: #00d7ff\">None</span>, <span style=\"color: #00af00; text-decoration-color: #00af00\">40</span>, <span style=\"color: #00af00; text-decoration-color: #00af00\">128</span>)        │             <span style=\"color: #00af00; text-decoration-color: #00af00\">0</span> │\n",
              "│ (<span style=\"color: #0087ff; text-decoration-color: #0087ff\">SpatialDropout1D</span>)              │                        │               │\n",
              "├─────────────────────────────────┼────────────────────────┼───────────────┤\n",
              "│ lstm_1 (<span style=\"color: #0087ff; text-decoration-color: #0087ff\">LSTM</span>)                   │ (<span style=\"color: #00d7ff; text-decoration-color: #00d7ff\">None</span>, <span style=\"color: #00af00; text-decoration-color: #00af00\">256</span>)            │       <span style=\"color: #00af00; text-decoration-color: #00af00\">394,240</span> │\n",
              "├─────────────────────────────────┼────────────────────────┼───────────────┤\n",
              "│ dense_1 (<span style=\"color: #0087ff; text-decoration-color: #0087ff\">Dense</span>)                 │ (<span style=\"color: #00d7ff; text-decoration-color: #00d7ff\">None</span>, <span style=\"color: #00af00; text-decoration-color: #00af00\">2</span>)              │           <span style=\"color: #00af00; text-decoration-color: #00af00\">514</span> │\n",
              "└─────────────────────────────────┴────────────────────────┴───────────────┘\n",
              "</pre>\n"
            ]
          },
          "metadata": {}
        },
        {
          "output_type": "display_data",
          "data": {
            "text/plain": [
              "\u001b[1m Total params: \u001b[0m\u001b[38;5;34m650,754\u001b[0m (2.48 MB)\n"
            ],
            "text/html": [
              "<pre style=\"white-space:pre;overflow-x:auto;line-height:normal;font-family:Menlo,'DejaVu Sans Mono',consolas,'Courier New',monospace\"><span style=\"font-weight: bold\"> Total params: </span><span style=\"color: #00af00; text-decoration-color: #00af00\">650,754</span> (2.48 MB)\n",
              "</pre>\n"
            ]
          },
          "metadata": {}
        },
        {
          "output_type": "display_data",
          "data": {
            "text/plain": [
              "\u001b[1m Trainable params: \u001b[0m\u001b[38;5;34m650,754\u001b[0m (2.48 MB)\n"
            ],
            "text/html": [
              "<pre style=\"white-space:pre;overflow-x:auto;line-height:normal;font-family:Menlo,'DejaVu Sans Mono',consolas,'Courier New',monospace\"><span style=\"font-weight: bold\"> Trainable params: </span><span style=\"color: #00af00; text-decoration-color: #00af00\">650,754</span> (2.48 MB)\n",
              "</pre>\n"
            ]
          },
          "metadata": {}
        },
        {
          "output_type": "display_data",
          "data": {
            "text/plain": [
              "\u001b[1m Non-trainable params: \u001b[0m\u001b[38;5;34m0\u001b[0m (0.00 B)\n"
            ],
            "text/html": [
              "<pre style=\"white-space:pre;overflow-x:auto;line-height:normal;font-family:Menlo,'DejaVu Sans Mono',consolas,'Courier New',monospace\"><span style=\"font-weight: bold\"> Non-trainable params: </span><span style=\"color: #00af00; text-decoration-color: #00af00\">0</span> (0.00 B)\n",
              "</pre>\n"
            ]
          },
          "metadata": {}
        }
      ]
    },
    {
      "cell_type": "code",
      "source": [
        "# Training the model\n",
        "print(colored(\"Training the LSTM model\", \"green\"))\n",
        "history = model.fit(train_tweets, pd.get_dummies(train_data['Sentiment']).values, epochs = 12, batch_size = 128, validation_split = 0.2)\n",
        "print(colored(history, \"green\"))"
      ],
      "metadata": {
        "colab": {
          "base_uri": "https://localhost:8080/"
        },
        "id": "mqBWui_ZlUbh",
        "outputId": "66fbf48e-15d3-453d-b6ea-dc97c68ee1ab"
      },
      "execution_count": null,
      "outputs": [
        {
          "output_type": "stream",
          "name": "stdout",
          "text": [
            "Training the LSTM model\n",
            "Epoch 1/12\n",
            "\u001b[1m8000/8000\u001b[0m \u001b[32m━━━━━━━━━━━━━━━━━━━━\u001b[0m\u001b[37m\u001b[0m \u001b[1m2901s\u001b[0m 362ms/step - accuracy: 0.7530 - loss: 0.5006 - val_accuracy: 0.7778 - val_loss: 0.4641\n",
            "Epoch 2/12\n",
            "\u001b[1m8000/8000\u001b[0m \u001b[32m━━━━━━━━━━━━━━━━━━━━\u001b[0m\u001b[37m\u001b[0m \u001b[1m2855s\u001b[0m 357ms/step - accuracy: 0.7776 - loss: 0.4640 - val_accuracy: 0.7812 - val_loss: 0.4592\n",
            "Epoch 3/12\n",
            "\u001b[1m8000/8000\u001b[0m \u001b[32m━━━━━━━━━━━━━━━━━━━━\u001b[0m\u001b[37m\u001b[0m \u001b[1m2875s\u001b[0m 359ms/step - accuracy: 0.7829 - loss: 0.4555 - val_accuracy: 0.7837 - val_loss: 0.4541\n",
            "Epoch 4/12\n",
            "\u001b[1m8000/8000\u001b[0m \u001b[32m━━━━━━━━━━━━━━━━━━━━\u001b[0m\u001b[37m\u001b[0m \u001b[1m2851s\u001b[0m 356ms/step - accuracy: 0.7854 - loss: 0.4507 - val_accuracy: 0.7846 - val_loss: 0.4517\n",
            "Epoch 5/12\n",
            "\u001b[1m8000/8000\u001b[0m \u001b[32m━━━━━━━━━━━━━━━━━━━━\u001b[0m\u001b[37m\u001b[0m \u001b[1m2845s\u001b[0m 349ms/step - accuracy: 0.7882 - loss: 0.4462 - val_accuracy: 0.7861 - val_loss: 0.4512\n",
            "Epoch 6/12\n",
            "\u001b[1m8000/8000\u001b[0m \u001b[32m━━━━━━━━━━━━━━━━━━━━\u001b[0m\u001b[37m\u001b[0m \u001b[1m2852s\u001b[0m 357ms/step - accuracy: 0.7903 - loss: 0.4424 - val_accuracy: 0.7867 - val_loss: 0.4504\n",
            "Epoch 7/12\n",
            "\u001b[1m8000/8000\u001b[0m \u001b[32m━━━━━━━━━━━━━━━━━━━━\u001b[0m\u001b[37m\u001b[0m \u001b[1m2940s\u001b[0m 361ms/step - accuracy: 0.7935 - loss: 0.4377 - val_accuracy: 0.7872 - val_loss: 0.4488\n",
            "Epoch 8/12\n",
            "\u001b[1m8000/8000\u001b[0m \u001b[32m━━━━━━━━━━━━━━━━━━━━\u001b[0m\u001b[37m\u001b[0m \u001b[1m2892s\u001b[0m 360ms/step - accuracy: 0.7937 - loss: 0.4354 - val_accuracy: 0.7876 - val_loss: 0.4486\n",
            "Epoch 9/12\n",
            "\u001b[1m8000/8000\u001b[0m \u001b[32m━━━━━━━━━━━━━━━━━━━━\u001b[0m\u001b[37m\u001b[0m \u001b[1m2895s\u001b[0m 359ms/step - accuracy: 0.7963 - loss: 0.4321 - val_accuracy: 0.7866 - val_loss: 0.4489\n",
            "Epoch 10/12\n",
            "\u001b[1m8000/8000\u001b[0m \u001b[32m━━━━━━━━━━━━━━━━━━━━\u001b[0m\u001b[37m\u001b[0m \u001b[1m2898s\u001b[0m 362ms/step - accuracy: 0.7969 - loss: 0.4311 - val_accuracy: 0.7864 - val_loss: 0.4490\n",
            "Epoch 11/12\n",
            "\u001b[1m8000/8000\u001b[0m \u001b[32m━━━━━━━━━━━━━━━━━━━━\u001b[0m\u001b[37m\u001b[0m \u001b[1m2888s\u001b[0m 361ms/step - accuracy: 0.7978 - loss: 0.4291 - val_accuracy: 0.7865 - val_loss: 0.4503\n",
            "Epoch 12/12\n",
            "\u001b[1m8000/8000\u001b[0m \u001b[32m━━━━━━━━━━━━━━━━━━━━\u001b[0m\u001b[37m\u001b[0m \u001b[1m2863s\u001b[0m 356ms/step - accuracy: 0.7994 - loss: 0.4266 - val_accuracy: 0.7871 - val_loss: 0.4483\n",
            "<keras.src.callbacks.history.History object at 0x7a36ebe069d0>\n"
          ]
        }
      ]
    },
    {
      "cell_type": "code",
      "source": [
        "# --- Test Verisini Hazırlama ---\n",
        "print(colored(\"Preparing test data\", \"yellow\"))\n",
        "# 1. Eksik değerleri boş string ile doldur ve string’e çevir\n",
        "test_data['Clean_tweet'] = test_data['Clean_tweet'].fillna('').astype(str)\n",
        "# 2. Tokenizer ile dizilere dönüştür\n",
        "test_seq = tokenizer.texts_to_sequences(test_data['Clean_tweet'].values)\n",
        "# 3. Eğitimde kullandığımız max_len ile pad et\n",
        "X_test = pad_sequences(test_seq, maxlen=max_len)\n",
        "# 4. Etiketleri one-hot encode et\n",
        "y_test = pd.get_dummies(test_data['Sentiment']).values"
      ],
      "metadata": {
        "colab": {
          "base_uri": "https://localhost:8080/"
        },
        "id": "J1eiIYJQo_9S",
        "outputId": "198ee590-899f-4127-ee99-9511dd74c9ad"
      },
      "execution_count": null,
      "outputs": [
        {
          "output_type": "stream",
          "name": "stdout",
          "text": [
            "Preparing test data\n"
          ]
        }
      ]
    },
    {
      "cell_type": "code",
      "source": [
        "# --- Modeli Test Etme ---\n",
        "print(colored(\"Testing the LSTM model\", \"green\"))\n",
        "score, accuracy = model.evaluate(\n",
        "    X_test, y_test,\n",
        "    batch_size=128,\n",
        "    verbose=1\n",
        ")\n",
        "print(f\"Test loss: {score:.4f}, Test accuracy: {accuracy:.4f}\")"
      ],
      "metadata": {
        "colab": {
          "base_uri": "https://localhost:8080/"
        },
        "id": "YbyjhRZqpAiJ",
        "outputId": "72f1f3d9-eb0a-49da-98fe-178563c408bb"
      },
      "execution_count": null,
      "outputs": [
        {
          "output_type": "stream",
          "name": "stdout",
          "text": [
            "Testing the LSTM model\n",
            "\u001b[1m2500/2500\u001b[0m \u001b[32m━━━━━━━━━━━━━━━━━━━━\u001b[0m\u001b[37m\u001b[0m \u001b[1m280s\u001b[0m 112ms/step - accuracy: 0.7878 - loss: 0.4480\n",
            "Test loss: 0.4482, Test accuracy: 0.7876\n"
          ]
        }
      ]
    },
    {
      "cell_type": "code",
      "source": [
        "# --- Modeli Kaydet ---\n",
        "model.save('lstm_model.h5')\n",
        "print(colored(\"Model saved to lstm_model.h5\", \"green\"))"
      ],
      "metadata": {
        "colab": {
          "base_uri": "https://localhost:8080/"
        },
        "id": "ZpGzeJscpJup",
        "outputId": "93fda6e4-796c-4b5a-db0f-ab800db3641a"
      },
      "execution_count": null,
      "outputs": [
        {
          "output_type": "stream",
          "name": "stderr",
          "text": [
            "WARNING:absl:You are saving your model as an HDF5 file via `model.save()` or `keras.saving.save_model(model)`. This file format is considered legacy. We recommend using instead the native Keras format, e.g. `model.save('my_model.keras')` or `keras.saving.save_model(model, 'my_model.keras')`. \n"
          ]
        },
        {
          "output_type": "stream",
          "name": "stdout",
          "text": [
            "Model saved to lstm_model.h5\n"
          ]
        }
      ]
    },
    {
      "cell_type": "code",
      "source": [
        "# --- Eğitim Geçmişini Kaydet ---\n",
        "import pickle\n",
        "with open('training_history.pkl', 'wb') as file:\n",
        "    pickle.dump(history.history, file)\n",
        "print(colored(\"Training history saved to training_history.pkl\", \"green\"))"
      ],
      "metadata": {
        "colab": {
          "base_uri": "https://localhost:8080/"
        },
        "id": "xJl0EQIQpO4Y",
        "outputId": "3f918f8b-31f1-4cf0-de8f-9a079367a8e1"
      },
      "execution_count": null,
      "outputs": [
        {
          "output_type": "stream",
          "name": "stdout",
          "text": [
            "Training history saved to training_history.pkl\n"
          ]
        }
      ]
    },
    {
      "cell_type": "code",
      "source": [
        "# --- Eğitim/Validasyon Grafikleri ---\n",
        "import matplotlib.pyplot as plt\n",
        "\n",
        "# Eğitim ve doğrulama accuracy grafiği\n",
        "plt.figure(figsize=(10, 5))\n",
        "plt.plot(history.history['accuracy'], marker='o', label='Train Accuracy')\n",
        "plt.plot(history.history['val_accuracy'], marker='o', label='Validation Accuracy')\n",
        "plt.title('Train vs Validation Accuracy')\n",
        "plt.xlabel('Epoch')\n",
        "plt.ylabel('Accuracy')\n",
        "plt.legend()\n",
        "plt.grid(True)\n",
        "plt.savefig('accuracy_plot.png')\n",
        "plt.show()\n",
        "\n",
        "# Eğitim ve doğrulama loss grafiği\n",
        "plt.figure(figsize=(10, 5))\n",
        "plt.plot(history.history['loss'], marker='o', label='Train Loss')\n",
        "plt.plot(history.history['val_loss'], marker='o', label='Validation Loss')\n",
        "plt.title('Train vs Validation Loss')\n",
        "plt.xlabel('Epoch')\n",
        "plt.ylabel('Loss')\n",
        "plt.legend()\n",
        "plt.grid(True)\n",
        "plt.savefig('loss_plot.png')\n",
        "plt.show()"
      ],
      "metadata": {
        "colab": {
          "base_uri": "https://localhost:8080/",
          "height": 957
        },
        "id": "-hq09YwRpQq6",
        "outputId": "3f0c77f9-dcb4-4f49-cb3f-a0ea6c401d49"
      },
      "execution_count": null,
      "outputs": [
        {
          "output_type": "display_data",
          "data": {
            "text/plain": [
              "<Figure size 1000x500 with 1 Axes>"
            ],
            "image/png": "[encoded data removed]"
          },
          "metadata": {}
        },
        {
          "output_type": "display_data",
          "data": {
            "text/plain": [
              "<Figure size 1000x500 with 1 Axes>"
            ],
            "image/png": "[encoded data removed]"
          },
          "metadata": {}
        }
      ]
    }
  ]
}