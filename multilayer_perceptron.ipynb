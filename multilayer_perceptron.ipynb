{
  "metadata": {
    "kernelspec": {
      "language": "python",
      "display_name": "Python 3",
      "name": "python3"
    },
    "language_info": {
      "name": "python",
      "version": "3.11.11",
      "mimetype": "text/x-python",
      "codemirror_mode": {
        "name": "ipython",
        "version": 3
      },
      "pygments_lexer": "ipython3",
      "nbconvert_exporter": "python",
      "file_extension": ".py"
    },
    "kaggle": {
      "accelerator": "none",
      "dataSources": [
        {
          "sourceId": 11859093,
          "sourceType": "datasetVersion",
          "datasetId": 7451785
        }
      ],
      "dockerImageVersionId": 31040,
      "isInternetEnabled": true,
      "language": "python",
      "sourceType": "notebook",
      "isGpuEnabled": false
    },
    "colab": {
      "provenance": []
    }
  },
  "nbformat_minor": 0,
  "nbformat": 4,
  "cells": [
    {
      "cell_type": "code",
      "source": [
        "# This Python 3 environment comes with many helpful analytics libraries installed\n",
        "# It is defined by the kaggle/python Docker image: https://github.com/kaggle/docker-python\n",
        "# For example, here's several helpful packages to load\n",
        "\n",
        "import numpy as np # linear algebra\n",
        "import pandas as pd # data processing, CSV file I/O (e.g. pd.read_csv)\n",
        "\n",
        "# Input data files are available in the read-only \"../input/\" directory\n",
        "# For example, running this (by clicking run or pressing Shift+Enter) will list all files under the input directory\n",
        "\n",
        "import os\n",
        "for dirname, _, filenames in os.walk('/kaggle/input'):\n",
        "    for filename in filenames:\n",
        "        print(os.path.join(dirname, filename))\n",
        "\n",
        "# You can write up to 20GB to the current directory (/kaggle/working/) that gets preserved as output when you create a version using \"Save & Run All\"\n",
        "# You can also write temporary files to /kaggle/temp/, but they won't be saved outside of the current session"
      ],
      "metadata": {
        "_uuid": "8f2839f25d086af736a60e9eeb907d3b93b6e0e5",
        "_cell_guid": "b1076dfc-b9ad-4769-8c92-a6c4dae69d19",
        "trusted": true,
        "execution": {
          "iopub.status.busy": "2025-05-18T18:20:43.080004Z",
          "iopub.execute_input": "2025-05-18T18:20:43.080223Z",
          "iopub.status.idle": "2025-05-18T18:20:43.343114Z",
          "shell.execute_reply.started": "2025-05-18T18:20:43.080207Z",
          "shell.execute_reply": "2025-05-18T18:20:43.342488Z"
        },
        "id": "GahGBK3Ra001",
        "outputId": "c564db4b-ae70-4c24-a914-fc6eeb1502b0"
      },
      "outputs": [
        {
          "name": "stdout",
          "text": "/kaggle/input/dataset/dataset.csv\n",
          "output_type": "stream"
        }
      ],
      "execution_count": null
    },
    {
      "cell_type": "code",
      "source": [
        "import pandas as pd\n",
        "from termcolor import colored\n",
        "from sklearn.model_selection import train_test_split\n",
        "\n",
        "# Define variables\n",
        "COLUMNS = ['Sentiment', 'Id', 'Date', 'Flag', 'User', 'Tweet']\n",
        "\n",
        "# Read dataset\n",
        "dataset = pd.read_csv('/kaggle/input/dataset/dataset.csv', names = COLUMNS, encoding = 'latin-1')\n",
        "print(colored(\"Columns: {}\".format(', '.join(COLUMNS)), \"yellow\"))\n",
        "\n",
        "# Remove extra columns\n",
        "print(colored(\"Useful columns: Sentiment and Tweet\", \"yellow\"))\n",
        "print(colored(\"Removing other columns\", \"red\"))\n",
        "dataset.drop(['Id', 'Date', 'Flag', 'User'], axis = 1, inplace = True)\n",
        "print(colored(\"Columns removed\", \"red\"))\n",
        "\n",
        "# Train test split\n",
        "print(colored(\"Splitting train and test dataset into 80:20\", \"yellow\"))\n",
        "X_train, X_test, y_train, y_test = train_test_split(dataset['Tweet'], dataset['Sentiment'], test_size = 0.20, random_state = 100)\n",
        "train_dataset = pd.DataFrame({\n",
        "\t'Tweet': X_train,\n",
        "\t'Sentiment': y_train\n",
        "\t})\n",
        "print(colored(\"Train data distribution:\", \"yellow\"))\n",
        "print(train_dataset['Sentiment'].value_counts())\n",
        "test_dataset = pd.DataFrame({\n",
        "\t'Tweet': X_test,\n",
        "\t'Sentiment': y_test\n",
        "\t})\n",
        "print(colored(\"Test data distribution:\", \"yellow\"))\n",
        "print(test_dataset['Sentiment'].value_counts())\n",
        "print(colored(\"Split complete\", \"yellow\"))\n",
        "\n",
        "# Save train data\n",
        "print(colored(\"Saving train data\", \"yellow\"))\n",
        "\n",
        "train_dataset.to_csv('train.csv', index = False)\n",
        "print(colored(\"Train data saved to train.csv\", \"green\"))\n",
        "\n",
        "# Save test data\n",
        "print(colored(\"Saving test data\", \"yellow\"))\n",
        "test_dataset.to_csv('test.csv', index = False)\n",
        "print(colored(\"Test data saved to test.csv\", \"green\"))"
      ],
      "metadata": {
        "trusted": true,
        "execution": {
          "iopub.status.busy": "2025-05-18T18:20:43.344274Z",
          "iopub.execute_input": "2025-05-18T18:20:43.344555Z",
          "iopub.status.idle": "2025-05-18T18:20:52.197658Z",
          "shell.execute_reply.started": "2025-05-18T18:20:43.344539Z",
          "shell.execute_reply": "2025-05-18T18:20:52.196798Z"
        },
        "id": "Kd560-vMa003",
        "outputId": "18444668-c2dc-41fb-92bb-6f1d228af93f"
      },
      "outputs": [
        {
          "name": "stdout",
          "text": "Columns: Sentiment, Id, Date, Flag, User, Tweet\nUseful columns: Sentiment and Tweet\nRemoving other columns\nColumns removed\nSplitting train and test dataset into 80:20\nTrain data distribution:\nSentiment\n4    640434\n0    639566\nName: count, dtype: int64\nTest data distribution:\nSentiment\n0    160434\n4    159566\nName: count, dtype: int64\nSplit complete\nSaving train data\nTrain data saved to train.csv\nSaving test data\nTest data saved to test.csv\n",
          "output_type": "stream"
        }
      ],
      "execution_count": null
    },
    {
      "cell_type": "code",
      "source": [
        "import re\n",
        "import nltk\n",
        "import numpy as np\n",
        "import pandas as pd\n",
        "nltk.download('wordnet')\n",
        "nltk.download('stopwords')\n",
        "from nltk.corpus import stopwords\n",
        "from termcolor import colored\n",
        "from nltk.stem import PorterStemmer\n",
        "from nltk.stem import WordNetLemmatizer\n",
        "\n",
        "# Import datasets\n",
        "print(\"Loading data\")\n",
        "train_data = pd.read_csv('train.csv')\n",
        "test_data = pd.read_csv('test.csv')\n",
        "\n",
        "# Setting stopwords\n",
        "STOPWORDS = set(stopwords.words('english'))\n",
        "STOPWORDS.remove(\"not\")\n",
        "\n",
        "# Function to expand tweet\n",
        "def expand_tweet(tweet):\n",
        "\texpanded_tweet = []\n",
        "\tfor word in tweet:\n",
        "\t\tif re.search(\"n't\", word):\n",
        "\t\t\texpanded_tweet.append(word.split(\"n't\")[0])\n",
        "\t\t\texpanded_tweet.append(\"not\")\n",
        "\t\telse:\n",
        "\t\t\texpanded_tweet.append(word)\n",
        "\treturn expanded_tweet\n",
        "\n",
        "# Function to process tweets\n",
        "def clean_tweet(data, wordNetLemmatizer, porterStemmer):\n",
        "\tdata['Clean_tweet'] = data['Tweet']\n",
        "\tprint(colored(\"Removing user handles starting with @\", \"yellow\"))\n",
        "\tdata['Clean_tweet'] = data['Clean_tweet'].str.replace(\"@[\\w]*\",\"\")\n",
        "\tprint(colored(\"Removing numbers and special characters\", \"yellow\"))\n",
        "\tdata['Clean_tweet'] = data['Clean_tweet'].str.replace(\"[^a-zA-Z' ]\",\"\")\n",
        "\tprint(colored(\"Removing urls\", \"yellow\"))\n",
        "\tdata['Clean_tweet'] = data['Clean_tweet'].replace(re.compile(r\"((www\\.[^\\s]+)|(https?://[^\\s]+))\"), \"\")\n",
        "\tprint(colored(\"Removing single characters\", \"yellow\"))\n",
        "\tdata['Clean_tweet'] = data['Clean_tweet'].replace(re.compile(r\"(^| ).( |$)\"), \" \")\n",
        "\tprint(colored(\"Tokenizing\", \"yellow\"))\n",
        "\tdata['Clean_tweet'] = data['Clean_tweet'].str.split()\n",
        "\tprint(colored(\"Removing stopwords\", \"yellow\"))\n",
        "\tdata['Clean_tweet'] = data['Clean_tweet'].apply(lambda tweet: [word for word in tweet if word not in STOPWORDS])\n",
        "\tprint(colored(\"Expanding not words\", \"yellow\"))\n",
        "\tdata['Clean_tweet'] = data['Clean_tweet'].apply(lambda tweet: expand_tweet(tweet))\n",
        "\tprint(colored(\"Lemmatizing the words\", \"yellow\"))\n",
        "\tdata['Clean_tweet'] = data['Clean_tweet'].apply(lambda tweet: [wordNetLemmatizer.lemmatize(word) for word in tweet])\n",
        "\tprint(colored(\"Stemming the words\", \"yellow\"))\n",
        "\tdata['Clean_tweet'] = data['Clean_tweet'].apply(lambda tweet: [porterStemmer.stem(word) for word in tweet])\n",
        "\tprint(colored(\"Combining words back to tweets\", \"yellow\"))\n",
        "\tdata['Clean_tweet'] = data['Clean_tweet'].apply(lambda tweet: ' '.join(tweet))\n",
        "\treturn data\n",
        "\n",
        "# Define processing methods\n",
        "wordNetLemmatizer = WordNetLemmatizer()\n",
        "porterStemmer = PorterStemmer()\n",
        "\n",
        "# Pre-processing the tweets\n",
        "print(colored(\"Processing train data\", \"green\"))\n",
        "train_data = clean_tweet(train_data, wordNetLemmatizer, porterStemmer)\n",
        "train_data.to_csv('clean_train.csv', index = False)\n",
        "print(colored(\"Train data processed and saved to clean_train.csv\", \"green\"))\n",
        "print(colored(\"Processing test data\", \"green\"))\n",
        "test_data = clean_tweet(test_data, wordNetLemmatizer, porterStemmer)\n",
        "test_data.to_csv('clean_test.csv', index = False)\n",
        "print(colored(\"Test data processed and saved to clean_test.csv\", \"green\"))"
      ],
      "metadata": {
        "trusted": true,
        "execution": {
          "iopub.status.busy": "2025-05-18T18:20:52.198515Z",
          "iopub.execute_input": "2025-05-18T18:20:52.198775Z",
          "iopub.status.idle": "2025-05-18T18:24:22.997089Z",
          "shell.execute_reply.started": "2025-05-18T18:20:52.198758Z",
          "shell.execute_reply": "2025-05-18T18:24:22.995922Z"
        },
        "id": "1l335cYAa003",
        "outputId": "0ce7e99a-f06a-44b6-d830-53b9f8d19129"
      },
      "outputs": [
        {
          "name": "stderr",
          "text": "[nltk_data] Downloading package wordnet to /usr/share/nltk_data...\n[nltk_data]   Package wordnet is already up-to-date!\n[nltk_data] Downloading package stopwords to /usr/share/nltk_data...\n[nltk_data]   Package stopwords is already up-to-date!\n",
          "output_type": "stream"
        },
        {
          "name": "stdout",
          "text": "Loading data\nProcessing train data\nRemoving user handles starting with @\nRemoving numbers and special characters\nRemoving urls\nRemoving single characters\nTokenizing\nRemoving stopwords\nExpanding not words\nLemmatizing the words\nStemming the words\nCombining words back to tweets\nTrain data processed and saved to clean_train.csv\nProcessing test data\nRemoving user handles starting with @\nRemoving numbers and special characters\nRemoving urls\nRemoving single characters\nTokenizing\nRemoving stopwords\nExpanding not words\nLemmatizing the words\nStemming the words\nCombining words back to tweets\nTest data processed and saved to clean_test.csv\n",
          "output_type": "stream"
        }
      ],
      "execution_count": null
    },
    {
      "cell_type": "code",
      "source": [
        "import os\n",
        "import tensorflow as tf\n",
        "import pandas as pd\n",
        "from termcolor import colored\n",
        "\n",
        "from sklearn.model_selection import train_test_split\n",
        "\n",
        "from tensorflow.keras.models import Sequential\n",
        "from tensorflow.keras.layers import (\n",
        "    Input, Embedding, GaussianNoise, SpatialDropout1D,\n",
        "    GlobalAveragePooling1D, Dense, Dropout\n",
        ")\n",
        "from tensorflow.keras.regularizers import l2\n",
        "from tensorflow.keras.callbacks import EarlyStopping, ReduceLROnPlateau\n",
        "from tensorflow.keras.preprocessing.text import Tokenizer\n",
        "from tensorflow.keras.preprocessing.sequence import pad_sequences"
      ],
      "metadata": {
        "trusted": true,
        "execution": {
          "iopub.status.busy": "2025-05-18T18:25:29.644518Z",
          "iopub.execute_input": "2025-05-18T18:25:29.644786Z",
          "iopub.status.idle": "2025-05-18T18:25:42.236870Z",
          "shell.execute_reply.started": "2025-05-18T18:25:29.644766Z",
          "shell.execute_reply": "2025-05-18T18:25:42.236105Z"
        },
        "id": "6QZGD-3Ia005",
        "outputId": "6b4c8f39-0177-423c-d09b-92f43c5d8055"
      },
      "outputs": [
        {
          "name": "stderr",
          "text": "2025-05-18 18:25:31.192494: E external/local_xla/xla/stream_executor/cuda/cuda_fft.cc:477] Unable to register cuFFT factory: Attempting to register factory for plugin cuFFT when one has already been registered\nWARNING: All log messages before absl::InitializeLog() is called are written to STDERR\nE0000 00:00:1747592731.382152      35 cuda_dnn.cc:8310] Unable to register cuDNN factory: Attempting to register factory for plugin cuDNN when one has already been registered\nE0000 00:00:1747592731.436309      35 cuda_blas.cc:1418] Unable to register cuBLAS factory: Attempting to register factory for plugin cuBLAS when one has already been registered\n",
          "output_type": "stream"
        }
      ],
      "execution_count": null
    },
    {
      "cell_type": "code",
      "source": [
        "# --- 1) VERİYİ YÜKLE & ÖN İŞLEME ---\n",
        "print(colored(\"Loading and preparing data\", \"yellow\"))\n",
        "full_train = pd.read_csv('clean_train.csv')\n",
        "\n",
        "train_data = (\n",
        "    full_train\n",
        "    .groupby('Sentiment', group_keys=False)\n",
        "    .sample(frac=0.8, random_state=100)      # %65 ile başlıyoruz\n",
        "    .reset_index(drop=True)\n",
        ")\n",
        "train_data = train_data.sample(frac=1.0, random_state=42).reset_index(drop=True)\n",
        "train_data['Clean_tweet'] = train_data['Clean_tweet'].fillna('').astype(str)"
      ],
      "metadata": {
        "trusted": true,
        "execution": {
          "iopub.status.busy": "2025-05-18T18:25:42.237646Z",
          "iopub.execute_input": "2025-05-18T18:25:42.238076Z",
          "iopub.status.idle": "2025-05-18T18:25:45.858426Z",
          "shell.execute_reply.started": "2025-05-18T18:25:42.238060Z",
          "shell.execute_reply": "2025-05-18T18:25:45.857559Z"
        },
        "id": "jRkhFYFYa006",
        "outputId": "dcb16df5-e856-4b04-d448-aa59065dc26f"
      },
      "outputs": [
        {
          "name": "stdout",
          "text": "Loading and preparing data\n",
          "output_type": "stream"
        }
      ],
      "execution_count": null
    },
    {
      "cell_type": "code",
      "source": [
        "# --- 2) TOKENİZASYON ---\n",
        "print(colored(\"Tokenizing and padding\", \"yellow\"))\n",
        "tokenizer = Tokenizer(num_words=2000, split=' ')\n",
        "tokenizer.fit_on_texts(train_data['Clean_tweet'].values)\n",
        "\n",
        "sequences = tokenizer.texts_to_sequences(train_data['Clean_tweet'].values)\n",
        "max_len   = max(len(x) for x in sequences)\n",
        "\n",
        "X = pad_sequences(sequences, maxlen=max_len)\n",
        "y = pd.get_dummies(train_data['Sentiment']).values"
      ],
      "metadata": {
        "trusted": true,
        "execution": {
          "iopub.status.busy": "2025-05-18T18:25:45.859404Z",
          "iopub.execute_input": "2025-05-18T18:25:45.859689Z",
          "iopub.status.idle": "2025-05-18T18:26:08.988712Z",
          "shell.execute_reply.started": "2025-05-18T18:25:45.859667Z",
          "shell.execute_reply": "2025-05-18T18:26:08.988053Z"
        },
        "id": "utxbQvNla006",
        "outputId": "fe0b8c45-9b9b-4fa1-cd1f-69af0890ee39"
      },
      "outputs": [
        {
          "name": "stdout",
          "text": "Tokenizing and padding\n",
          "output_type": "stream"
        }
      ],
      "execution_count": null
    },
    {
      "cell_type": "code",
      "source": [
        "# --- 3) TRAIN/VAL SPLIT ---\n",
        "print(colored(\"Creating stratified train/validation split\", \"yellow\"))\n",
        "X_train, X_val, y_train, y_val = train_test_split(\n",
        "    X, y,\n",
        "    test_size=0.2,\n",
        "    random_state=42,\n",
        "    stratify=y\n",
        ")"
      ],
      "metadata": {
        "trusted": true,
        "execution": {
          "iopub.status.busy": "2025-05-18T18:26:08.989407Z",
          "iopub.execute_input": "2025-05-18T18:26:08.989642Z",
          "iopub.status.idle": "2025-05-18T18:26:12.858319Z",
          "shell.execute_reply.started": "2025-05-18T18:26:08.989601Z",
          "shell.execute_reply": "2025-05-18T18:26:12.857433Z"
        },
        "id": "71AtICVJa006",
        "outputId": "f454495b-8017-4c19-8b38-87d7223cdc72"
      },
      "outputs": [
        {
          "name": "stdout",
          "text": "Creating stratified train/validation split\n",
          "output_type": "stream"
        }
      ],
      "execution_count": null
    },
    {
      "cell_type": "code",
      "source": [
        "# --- 4) CALLBACKS TANIMI ---\n",
        "early_stop = EarlyStopping(\n",
        "    monitor='val_loss', patience=2,\n",
        "    restore_best_weights=True, verbose=1\n",
        ")\n",
        "reduce_lr = ReduceLROnPlateau(\n",
        "    monitor='val_loss', factor=0.5,\n",
        "    patience=1, min_lr=1e-6, verbose=1\n",
        ")"
      ],
      "metadata": {
        "trusted": true,
        "execution": {
          "iopub.status.busy": "2025-05-18T18:26:12.860805Z",
          "iopub.execute_input": "2025-05-18T18:26:12.861081Z",
          "iopub.status.idle": "2025-05-18T18:26:12.865799Z",
          "shell.execute_reply.started": "2025-05-18T18:26:12.861061Z",
          "shell.execute_reply": "2025-05-18T18:26:12.864884Z"
        },
        "id": "2A0JAUhLa006"
      },
      "outputs": [],
      "execution_count": null
    },
    {
      "cell_type": "markdown",
      "source": [
        "Multi-Layer Perceptron Modeli\n",
        "\n",
        "Verinin %80'i kullanılmıştır.\n",
        "\n",
        "- **Input**  \n",
        "- **Embedding**  \n",
        "- **GaussianNoise**   (gürültü eklendi)  \n",
        "- **GlobalAveragePooling1D**  (öznitelik özetleme/ ortalama değer alındı/ boyut azalma)\n",
        "- **Dense** (64 units, ReLU)  \n",
        "- **Dropout** (rate=0.3)  \n",
        "- **Dense** (2 units, Softmax)  \n"
      ],
      "metadata": {
        "id": "pFz7VPX_be8i"
      }
    },
    {
      "cell_type": "code",
      "source": [
        "# --- 5) MLP MODELİ ---\n",
        "print(colored(\"Building the improved MLP model\", \"yellow\"))\n",
        "model = Sequential([\n",
        "    Input(shape=(max_len,)),\n",
        "    Embedding(\n",
        "        input_dim=2000,\n",
        "        output_dim=32,                     # embed boyutu\n",
        "        embeddings_regularizer=l2(1e-4)\n",
        "    ),\n",
        "    GaussianNoise(0.1),                    # gürültü oranı\n",
        "    SpatialDropout1D(0.2),                 # dropout oranı\n",
        "    GlobalAveragePooling1D(),\n",
        "    Dense(64, activation='relu',\n",
        "          kernel_regularizer=l2(1e-4)),\n",
        "    Dropout(0.3),\n",
        "    Dense(2, activation='softmax')\n",
        "])\n",
        "\n",
        "model.compile(\n",
        "    loss='categorical_crossentropy',\n",
        "    optimizer=tf.keras.optimizers.Adam(learning_rate=5e-5),\n",
        "    metrics=['accuracy']\n",
        ")\n",
        "model.summary()"
      ],
      "metadata": {
        "trusted": true,
        "execution": {
          "iopub.status.busy": "2025-05-18T18:26:12.866513Z",
          "iopub.execute_input": "2025-05-18T18:26:12.866732Z",
          "iopub.status.idle": "2025-05-18T18:26:12.969257Z",
          "shell.execute_reply.started": "2025-05-18T18:26:12.866716Z",
          "shell.execute_reply": "2025-05-18T18:26:12.968654Z"
        },
        "id": "hgFpWCJha006",
        "outputId": "74ebd422-64eb-46ee-8e6b-391269d1e708"
      },
      "outputs": [
        {
          "name": "stdout",
          "text": "Building the improved MLP model\n",
          "output_type": "stream"
        },
        {
          "name": "stderr",
          "text": "2025-05-18 18:26:12.886414: E external/local_xla/xla/stream_executor/cuda/cuda_driver.cc:152] failed call to cuInit: INTERNAL: CUDA error: Failed call to cuInit: UNKNOWN ERROR (303)\n",
          "output_type": "stream"
        },
        {
          "output_type": "display_data",
          "data": {
            "text/plain": "\u001b[1mModel: \"sequential\"\u001b[0m\n",
            "text/html": "<pre style=\"white-space:pre;overflow-x:auto;line-height:normal;font-family:Menlo,'DejaVu Sans Mono',consolas,'Courier New',monospace\"><span style=\"font-weight: bold\">Model: \"sequential\"</span>\n</pre>\n"
          },
          "metadata": {}
        },
        {
          "output_type": "display_data",
          "data": {
            "text/plain": "┏━━━━━━━━━━━━━━━━━━━━━━━━━━━━━━━━━━━━━━┳━━━━━━━━━━━━━━━━━━━━━━━━━━━━━┳━━━━━━━━━━━━━━━━━┓\n┃\u001b[1m \u001b[0m\u001b[1mLayer (type)                        \u001b[0m\u001b[1m \u001b[0m┃\u001b[1m \u001b[0m\u001b[1mOutput Shape               \u001b[0m\u001b[1m \u001b[0m┃\u001b[1m \u001b[0m\u001b[1m        Param #\u001b[0m\u001b[1m \u001b[0m┃\n┡━━━━━━━━━━━━━━━━━━━━━━━━━━━━━━━━━━━━━━╇━━━━━━━━━━━━━━━━━━━━━━━━━━━━━╇━━━━━━━━━━━━━━━━━┩\n│ embedding (\u001b[38;5;33mEmbedding\u001b[0m)                │ (\u001b[38;5;45mNone\u001b[0m, \u001b[38;5;34m38\u001b[0m, \u001b[38;5;34m32\u001b[0m)              │          \u001b[38;5;34m64,000\u001b[0m │\n├──────────────────────────────────────┼─────────────────────────────┼─────────────────┤\n│ gaussian_noise (\u001b[38;5;33mGaussianNoise\u001b[0m)       │ (\u001b[38;5;45mNone\u001b[0m, \u001b[38;5;34m38\u001b[0m, \u001b[38;5;34m32\u001b[0m)              │               \u001b[38;5;34m0\u001b[0m │\n├──────────────────────────────────────┼─────────────────────────────┼─────────────────┤\n│ spatial_dropout1d (\u001b[38;5;33mSpatialDropout1D\u001b[0m) │ (\u001b[38;5;45mNone\u001b[0m, \u001b[38;5;34m38\u001b[0m, \u001b[38;5;34m32\u001b[0m)              │               \u001b[38;5;34m0\u001b[0m │\n├──────────────────────────────────────┼─────────────────────────────┼─────────────────┤\n│ global_average_pooling1d             │ (\u001b[38;5;45mNone\u001b[0m, \u001b[38;5;34m32\u001b[0m)                  │               \u001b[38;5;34m0\u001b[0m │\n│ (\u001b[38;5;33mGlobalAveragePooling1D\u001b[0m)             │                             │                 │\n├──────────────────────────────────────┼─────────────────────────────┼─────────────────┤\n│ dense (\u001b[38;5;33mDense\u001b[0m)                        │ (\u001b[38;5;45mNone\u001b[0m, \u001b[38;5;34m64\u001b[0m)                  │           \u001b[38;5;34m2,112\u001b[0m │\n├──────────────────────────────────────┼─────────────────────────────┼─────────────────┤\n│ dropout (\u001b[38;5;33mDropout\u001b[0m)                    │ (\u001b[38;5;45mNone\u001b[0m, \u001b[38;5;34m64\u001b[0m)                  │               \u001b[38;5;34m0\u001b[0m │\n├──────────────────────────────────────┼─────────────────────────────┼─────────────────┤\n│ dense_1 (\u001b[38;5;33mDense\u001b[0m)                      │ (\u001b[38;5;45mNone\u001b[0m, \u001b[38;5;34m2\u001b[0m)                   │             \u001b[38;5;34m130\u001b[0m │\n└──────────────────────────────────────┴─────────────────────────────┴─────────────────┘\n",
            "text/html": "<pre style=\"white-space:pre;overflow-x:auto;line-height:normal;font-family:Menlo,'DejaVu Sans Mono',consolas,'Courier New',monospace\">┏━━━━━━━━━━━━━━━━━━━━━━━━━━━━━━━━━━━━━━┳━━━━━━━━━━━━━━━━━━━━━━━━━━━━━┳━━━━━━━━━━━━━━━━━┓\n┃<span style=\"font-weight: bold\"> Layer (type)                         </span>┃<span style=\"font-weight: bold\"> Output Shape                </span>┃<span style=\"font-weight: bold\">         Param # </span>┃\n┡━━━━━━━━━━━━━━━━━━━━━━━━━━━━━━━━━━━━━━╇━━━━━━━━━━━━━━━━━━━━━━━━━━━━━╇━━━━━━━━━━━━━━━━━┩\n│ embedding (<span style=\"color: #0087ff; text-decoration-color: #0087ff\">Embedding</span>)                │ (<span style=\"color: #00d7ff; text-decoration-color: #00d7ff\">None</span>, <span style=\"color: #00af00; text-decoration-color: #00af00\">38</span>, <span style=\"color: #00af00; text-decoration-color: #00af00\">32</span>)              │          <span style=\"color: #00af00; text-decoration-color: #00af00\">64,000</span> │\n├──────────────────────────────────────┼─────────────────────────────┼─────────────────┤\n│ gaussian_noise (<span style=\"color: #0087ff; text-decoration-color: #0087ff\">GaussianNoise</span>)       │ (<span style=\"color: #00d7ff; text-decoration-color: #00d7ff\">None</span>, <span style=\"color: #00af00; text-decoration-color: #00af00\">38</span>, <span style=\"color: #00af00; text-decoration-color: #00af00\">32</span>)              │               <span style=\"color: #00af00; text-decoration-color: #00af00\">0</span> │\n├──────────────────────────────────────┼─────────────────────────────┼─────────────────┤\n│ spatial_dropout1d (<span style=\"color: #0087ff; text-decoration-color: #0087ff\">SpatialDropout1D</span>) │ (<span style=\"color: #00d7ff; text-decoration-color: #00d7ff\">None</span>, <span style=\"color: #00af00; text-decoration-color: #00af00\">38</span>, <span style=\"color: #00af00; text-decoration-color: #00af00\">32</span>)              │               <span style=\"color: #00af00; text-decoration-color: #00af00\">0</span> │\n├──────────────────────────────────────┼─────────────────────────────┼─────────────────┤\n│ global_average_pooling1d             │ (<span style=\"color: #00d7ff; text-decoration-color: #00d7ff\">None</span>, <span style=\"color: #00af00; text-decoration-color: #00af00\">32</span>)                  │               <span style=\"color: #00af00; text-decoration-color: #00af00\">0</span> │\n│ (<span style=\"color: #0087ff; text-decoration-color: #0087ff\">GlobalAveragePooling1D</span>)             │                             │                 │\n├──────────────────────────────────────┼─────────────────────────────┼─────────────────┤\n│ dense (<span style=\"color: #0087ff; text-decoration-color: #0087ff\">Dense</span>)                        │ (<span style=\"color: #00d7ff; text-decoration-color: #00d7ff\">None</span>, <span style=\"color: #00af00; text-decoration-color: #00af00\">64</span>)                  │           <span style=\"color: #00af00; text-decoration-color: #00af00\">2,112</span> │\n├──────────────────────────────────────┼─────────────────────────────┼─────────────────┤\n│ dropout (<span style=\"color: #0087ff; text-decoration-color: #0087ff\">Dropout</span>)                    │ (<span style=\"color: #00d7ff; text-decoration-color: #00d7ff\">None</span>, <span style=\"color: #00af00; text-decoration-color: #00af00\">64</span>)                  │               <span style=\"color: #00af00; text-decoration-color: #00af00\">0</span> │\n├──────────────────────────────────────┼─────────────────────────────┼─────────────────┤\n│ dense_1 (<span style=\"color: #0087ff; text-decoration-color: #0087ff\">Dense</span>)                      │ (<span style=\"color: #00d7ff; text-decoration-color: #00d7ff\">None</span>, <span style=\"color: #00af00; text-decoration-color: #00af00\">2</span>)                   │             <span style=\"color: #00af00; text-decoration-color: #00af00\">130</span> │\n└──────────────────────────────────────┴─────────────────────────────┴─────────────────┘\n</pre>\n"
          },
          "metadata": {}
        },
        {
          "output_type": "display_data",
          "data": {
            "text/plain": "\u001b[1m Total params: \u001b[0m\u001b[38;5;34m66,242\u001b[0m (258.76 KB)\n",
            "text/html": "<pre style=\"white-space:pre;overflow-x:auto;line-height:normal;font-family:Menlo,'DejaVu Sans Mono',consolas,'Courier New',monospace\"><span style=\"font-weight: bold\"> Total params: </span><span style=\"color: #00af00; text-decoration-color: #00af00\">66,242</span> (258.76 KB)\n</pre>\n"
          },
          "metadata": {}
        },
        {
          "output_type": "display_data",
          "data": {
            "text/plain": "\u001b[1m Trainable params: \u001b[0m\u001b[38;5;34m66,242\u001b[0m (258.76 KB)\n",
            "text/html": "<pre style=\"white-space:pre;overflow-x:auto;line-height:normal;font-family:Menlo,'DejaVu Sans Mono',consolas,'Courier New',monospace\"><span style=\"font-weight: bold\"> Trainable params: </span><span style=\"color: #00af00; text-decoration-color: #00af00\">66,242</span> (258.76 KB)\n</pre>\n"
          },
          "metadata": {}
        },
        {
          "output_type": "display_data",
          "data": {
            "text/plain": "\u001b[1m Non-trainable params: \u001b[0m\u001b[38;5;34m0\u001b[0m (0.00 B)\n",
            "text/html": "<pre style=\"white-space:pre;overflow-x:auto;line-height:normal;font-family:Menlo,'DejaVu Sans Mono',consolas,'Courier New',monospace\"><span style=\"font-weight: bold\"> Non-trainable params: </span><span style=\"color: #00af00; text-decoration-color: #00af00\">0</span> (0.00 B)\n</pre>\n"
          },
          "metadata": {}
        }
      ],
      "execution_count": null
    },
    {
      "cell_type": "code",
      "source": [
        "# --- 6) MODELİ EĞİTME ---\n",
        "print(colored(\"Training with explicit validation_data\", \"green\"))\n",
        "history = model.fit(\n",
        "    X_train, y_train,\n",
        "    epochs=20,\n",
        "    batch_size=64,\n",
        "    validation_data=(X_val, y_val),\n",
        "    callbacks=[early_stop, reduce_lr],\n",
        "    verbose=1\n",
        ")\n",
        "print(colored(\"Training complete\", \"green\"))"
      ],
      "metadata": {
        "trusted": true,
        "execution": {
          "iopub.status.busy": "2025-05-18T18:26:12.969924Z",
          "iopub.execute_input": "2025-05-18T18:26:12.970115Z",
          "iopub.status.idle": "2025-05-18T18:38:04.888894Z",
          "shell.execute_reply.started": "2025-05-18T18:26:12.970100Z",
          "shell.execute_reply": "2025-05-18T18:38:04.888173Z"
        },
        "id": "3zNUDouQa007",
        "outputId": "bf64e67e-60ef-4ad9-885c-876c37426c02"
      },
      "outputs": [
        {
          "name": "stdout",
          "text": "Training with explicit validation_data\nEpoch 1/20\n\u001b[1m12800/12800\u001b[0m \u001b[32m━━━━━━━━━━━━━━━━━━━━\u001b[0m\u001b[37m\u001b[0m \u001b[1m37s\u001b[0m 3ms/step - accuracy: 0.5611 - loss: 0.6855 - val_accuracy: 0.7320 - val_loss: 0.5766 - learning_rate: 5.0000e-05\nEpoch 2/20\n\u001b[1m12800/12800\u001b[0m \u001b[32m━━━━━━━━━━━━━━━━━━━━\u001b[0m\u001b[37m\u001b[0m \u001b[1m35s\u001b[0m 3ms/step - accuracy: 0.6994 - loss: 0.5923 - val_accuracy: 0.7483 - val_loss: 0.5534 - learning_rate: 5.0000e-05\nEpoch 3/20\n\u001b[1m12800/12800\u001b[0m \u001b[32m━━━━━━━━━━━━━━━━━━━━\u001b[0m\u001b[37m\u001b[0m \u001b[1m35s\u001b[0m 3ms/step - accuracy: 0.7149 - loss: 0.5813 - val_accuracy: 0.7524 - val_loss: 0.5508 - learning_rate: 5.0000e-05\nEpoch 4/20\n\u001b[1m12800/12800\u001b[0m \u001b[32m━━━━━━━━━━━━━━━━━━━━\u001b[0m\u001b[37m\u001b[0m \u001b[1m35s\u001b[0m 3ms/step - accuracy: 0.7200 - loss: 0.5780 - val_accuracy: 0.7536 - val_loss: 0.5503 - learning_rate: 5.0000e-05\nEpoch 5/20\n\u001b[1m12800/12800\u001b[0m \u001b[32m━━━━━━━━━━━━━━━━━━━━\u001b[0m\u001b[37m\u001b[0m \u001b[1m35s\u001b[0m 3ms/step - accuracy: 0.7231 - loss: 0.5763 - val_accuracy: 0.7516 - val_loss: 0.5502 - learning_rate: 5.0000e-05\nEpoch 6/20\n\u001b[1m12800/12800\u001b[0m \u001b[32m━━━━━━━━━━━━━━━━━━━━\u001b[0m\u001b[37m\u001b[0m \u001b[1m35s\u001b[0m 3ms/step - accuracy: 0.7233 - loss: 0.5762 - val_accuracy: 0.7541 - val_loss: 0.5496 - learning_rate: 5.0000e-05\nEpoch 7/20\n\u001b[1m12787/12800\u001b[0m \u001b[32m━━━━━━━━━━━━━━━━━━━\u001b[0m\u001b[37m━\u001b[0m \u001b[1m0s\u001b[0m 2ms/step - accuracy: 0.7240 - loss: 0.5758\nEpoch 7: ReduceLROnPlateau reducing learning rate to 2.499999936844688e-05.\n\u001b[1m12800/12800\u001b[0m \u001b[32m━━━━━━━━━━━━━━━━━━━━\u001b[0m\u001b[37m\u001b[0m \u001b[1m35s\u001b[0m 3ms/step - accuracy: 0.7240 - loss: 0.5758 - val_accuracy: 0.7533 - val_loss: 0.5497 - learning_rate: 5.0000e-05\nEpoch 8/20\n\u001b[1m12800/12800\u001b[0m \u001b[32m━━━━━━━━━━━━━━━━━━━━\u001b[0m\u001b[37m\u001b[0m \u001b[1m36s\u001b[0m 3ms/step - accuracy: 0.7241 - loss: 0.5756 - val_accuracy: 0.7536 - val_loss: 0.5488 - learning_rate: 2.5000e-05\nEpoch 9/20\n\u001b[1m12800/12800\u001b[0m \u001b[32m━━━━━━━━━━━━━━━━━━━━\u001b[0m\u001b[37m\u001b[0m \u001b[1m35s\u001b[0m 3ms/step - accuracy: 0.7229 - loss: 0.5762 - val_accuracy: 0.7517 - val_loss: 0.5487 - learning_rate: 2.5000e-05\nEpoch 10/20\n\u001b[1m12800/12800\u001b[0m \u001b[32m━━━━━━━━━━━━━━━━━━━━\u001b[0m\u001b[37m\u001b[0m \u001b[1m36s\u001b[0m 3ms/step - accuracy: 0.7242 - loss: 0.5750 - val_accuracy: 0.7530 - val_loss: 0.5484 - learning_rate: 2.5000e-05\nEpoch 11/20\n\u001b[1m12785/12800\u001b[0m \u001b[32m━━━━━━━━━━━━━━━━━━━\u001b[0m\u001b[37m━\u001b[0m \u001b[1m0s\u001b[0m 2ms/step - accuracy: 0.7256 - loss: 0.5738\nEpoch 11: ReduceLROnPlateau reducing learning rate to 1.249999968422344e-05.\n\u001b[1m12800/12800\u001b[0m \u001b[32m━━━━━━━━━━━━━━━━━━━━\u001b[0m\u001b[37m\u001b[0m \u001b[1m35s\u001b[0m 3ms/step - accuracy: 0.7256 - loss: 0.5738 - val_accuracy: 0.7523 - val_loss: 0.5485 - learning_rate: 2.5000e-05\nEpoch 12/20\n\u001b[1m12800/12800\u001b[0m \u001b[32m━━━━━━━━━━━━━━━━━━━━\u001b[0m\u001b[37m\u001b[0m \u001b[1m35s\u001b[0m 3ms/step - accuracy: 0.7236 - loss: 0.5754 - val_accuracy: 0.7541 - val_loss: 0.5478 - learning_rate: 1.2500e-05\nEpoch 13/20\n\u001b[1m12791/12800\u001b[0m \u001b[32m━━━━━━━━━━━━━━━━━━━\u001b[0m\u001b[37m━\u001b[0m \u001b[1m0s\u001b[0m 2ms/step - accuracy: 0.7240 - loss: 0.5752\nEpoch 13: ReduceLROnPlateau reducing learning rate to 6.24999984211172e-06.\n\u001b[1m12800/12800\u001b[0m \u001b[32m━━━━━━━━━━━━━━━━━━━━\u001b[0m\u001b[37m\u001b[0m \u001b[1m35s\u001b[0m 3ms/step - accuracy: 0.7240 - loss: 0.5752 - val_accuracy: 0.7533 - val_loss: 0.5480 - learning_rate: 1.2500e-05\nEpoch 14/20\n\u001b[1m12795/12800\u001b[0m \u001b[32m━━━━━━━━━━━━━━━━━━━\u001b[0m\u001b[37m━\u001b[0m \u001b[1m0s\u001b[0m 3ms/step - accuracy: 0.7251 - loss: 0.5741\nEpoch 14: ReduceLROnPlateau reducing learning rate to 3.12499992105586e-06.\n\u001b[1m12800/12800\u001b[0m \u001b[32m━━━━━━━━━━━━━━━━━━━━\u001b[0m\u001b[37m\u001b[0m \u001b[1m36s\u001b[0m 3ms/step - accuracy: 0.7251 - loss: 0.5741 - val_accuracy: 0.7532 - val_loss: 0.5477 - learning_rate: 6.2500e-06\nEpoch 15/20\n\u001b[1m12800/12800\u001b[0m \u001b[32m━━━━━━━━━━━━━━━━━━━━\u001b[0m\u001b[37m\u001b[0m \u001b[1m37s\u001b[0m 3ms/step - accuracy: 0.7245 - loss: 0.5746 - val_accuracy: 0.7532 - val_loss: 0.5476 - learning_rate: 3.1250e-06\nEpoch 16/20\n\u001b[1m12791/12800\u001b[0m \u001b[32m━━━━━━━━━━━━━━━━━━━\u001b[0m\u001b[37m━\u001b[0m \u001b[1m0s\u001b[0m 3ms/step - accuracy: 0.7239 - loss: 0.5748\nEpoch 16: ReduceLROnPlateau reducing learning rate to 1.56249996052793e-06.\n\u001b[1m12800/12800\u001b[0m \u001b[32m━━━━━━━━━━━━━━━━━━━━\u001b[0m\u001b[37m\u001b[0m \u001b[1m37s\u001b[0m 3ms/step - accuracy: 0.7239 - loss: 0.5748 - val_accuracy: 0.7531 - val_loss: 0.5476 - learning_rate: 3.1250e-06\nEpoch 17/20\n\u001b[1m12796/12800\u001b[0m \u001b[32m━━━━━━━━━━━━━━━━━━━\u001b[0m\u001b[37m━\u001b[0m \u001b[1m0s\u001b[0m 3ms/step - accuracy: 0.7239 - loss: 0.5748\nEpoch 17: ReduceLROnPlateau reducing learning rate to 1e-06.\n\u001b[1m12800/12800\u001b[0m \u001b[32m━━━━━━━━━━━━━━━━━━━━\u001b[0m\u001b[37m\u001b[0m \u001b[1m36s\u001b[0m 3ms/step - accuracy: 0.7239 - loss: 0.5748 - val_accuracy: 0.7538 - val_loss: 0.5476 - learning_rate: 1.5625e-06\nEpoch 18/20\n\u001b[1m12800/12800\u001b[0m \u001b[32m━━━━━━━━━━━━━━━━━━━━\u001b[0m\u001b[37m\u001b[0m \u001b[1m36s\u001b[0m 3ms/step - accuracy: 0.7236 - loss: 0.5751 - val_accuracy: 0.7538 - val_loss: 0.5476 - learning_rate: 1.0000e-06\nEpoch 19/20\n\u001b[1m12800/12800\u001b[0m \u001b[32m━━━━━━━━━━━━━━━━━━━━\u001b[0m\u001b[37m\u001b[0m \u001b[1m36s\u001b[0m 3ms/step - accuracy: 0.7244 - loss: 0.5745 - val_accuracy: 0.7534 - val_loss: 0.5476 - learning_rate: 1.0000e-06\nEpoch 20/20\n\u001b[1m12800/12800\u001b[0m \u001b[32m━━━━━━━━━━━━━━━━━━━━\u001b[0m\u001b[37m\u001b[0m \u001b[1m36s\u001b[0m 3ms/step - accuracy: 0.7242 - loss: 0.5744 - val_accuracy: 0.7532 - val_loss: 0.5476 - learning_rate: 1.0000e-06\nEpoch 20: early stopping\nRestoring model weights from the end of the best epoch: 18.\nTraining complete\n",
          "output_type": "stream"
        }
      ],
      "execution_count": null
    },
    {
      "cell_type": "code",
      "source": [
        "# --- Test Verisini Hazırlama ---\n",
        "print(colored(\"Preparing test data\", \"yellow\"))\n",
        "\n",
        "# 1. Eksik değerleri boş string ile doldur ve string’e çevir\n",
        "test_data['Clean_tweet'] = test_data['Clean_tweet'].fillna('').astype(str)\n",
        "\n",
        "# 2. Tokenizer ile dizilere dönüştür\n",
        "test_seq = tokenizer.texts_to_sequences(test_data['Clean_tweet'].values)\n",
        "\n",
        "# 3. Eğitimde kullandığımız max_len ile pad et\n",
        "X_test = pad_sequences(test_seq, maxlen=max_len)\n",
        "\n",
        "# 4. Etiketleri one-hot encode et\n",
        "y_test = pd.get_dummies(test_data['Sentiment']).values\n",
        "\n",
        "# --- Modeli Test Etme ---\n",
        "print(colored(\"Testing the LSTM model\", \"green\"))\n",
        "score, accuracy = model.evaluate(\n",
        "    X_test, y_test,\n",
        "    batch_size=128,\n",
        "    verbose=1\n",
        ")\n",
        "print(f\"Test loss: {score:.4f}, Test accuracy: {accuracy:.4f}\")"
      ],
      "metadata": {
        "trusted": true,
        "execution": {
          "iopub.status.busy": "2025-05-18T18:38:13.547318Z",
          "iopub.execute_input": "2025-05-18T18:38:13.547689Z",
          "iopub.status.idle": "2025-05-18T18:38:20.806871Z",
          "shell.execute_reply.started": "2025-05-18T18:38:13.547665Z",
          "shell.execute_reply": "2025-05-18T18:38:20.806022Z"
        },
        "id": "rTQd3ck2a007",
        "outputId": "36b30189-170c-41ec-aa34-901fdac64e19"
      },
      "outputs": [
        {
          "name": "stdout",
          "text": "Preparing test data\nTesting the LSTM model\n\u001b[1m2500/2500\u001b[0m \u001b[32m━━━━━━━━━━━━━━━━━━━━\u001b[0m\u001b[37m\u001b[0m \u001b[1m4s\u001b[0m 2ms/step - accuracy: 0.7554 - loss: 0.5453\nTest loss: 0.5454, Test accuracy: 0.7555\n",
          "output_type": "stream"
        }
      ],
      "execution_count": null
    },
    {
      "cell_type": "code",
      "source": [
        "# Modeli kaydet\n",
        "model.save('lstm_model.h5')\n",
        "print(colored(\"Model saved to lstm_model.h5\", \"green\"))\n",
        "\n",
        "# History nesnesini kaydet\n",
        "import pickle\n",
        "\n",
        "with open('training_history.pkl', 'wb') as file:\n",
        "    pickle.dump(history.history, file)\n",
        "print(colored(\"Training history saved to training_history.pkl\", \"green\"))"
      ],
      "metadata": {
        "trusted": true,
        "execution": {
          "iopub.status.busy": "2025-05-18T18:38:25.417027Z",
          "iopub.execute_input": "2025-05-18T18:38:25.417755Z",
          "iopub.status.idle": "2025-05-18T18:38:25.447953Z",
          "shell.execute_reply.started": "2025-05-18T18:38:25.417718Z",
          "shell.execute_reply": "2025-05-18T18:38:25.446843Z"
        },
        "id": "u5n0VvY7a007",
        "outputId": "bb8a9841-356e-4a3a-e7c7-792b7cecca20"
      },
      "outputs": [
        {
          "name": "stdout",
          "text": "Model saved to lstm_model.h5\nTraining history saved to training_history.pkl\n",
          "output_type": "stream"
        }
      ],
      "execution_count": null
    },
    {
      "cell_type": "code",
      "source": [
        "import matplotlib.pyplot as plt\n",
        "\n",
        "# Eğitim ve doğrulama accuracy grafiği\n",
        "plt.figure(figsize=(10, 5))\n",
        "plt.plot(history.history['accuracy'], label='Train Accuracy', marker='o')\n",
        "plt.plot(history.history['val_accuracy'], label='Validation Accuracy', marker='o')\n",
        "plt.title('Train vs Validation Accuracy')\n",
        "plt.xlabel('Epoch')\n",
        "plt.ylabel('Accuracy')\n",
        "plt.legend()\n",
        "plt.grid(True)\n",
        "plt.savefig('accuracy_plot.png')\n",
        "plt.show()\n",
        "\n",
        "# Eğitim ve doğrulama loss grafiği\n",
        "plt.figure(figsize=(10, 5))\n",
        "plt.plot(history.history['loss'], label='Train Loss', marker='o')\n",
        "plt.plot(history.history['val_loss'], label='Validation Loss', marker='o')\n",
        "plt.title('Train vs Validation Loss')\n",
        "plt.xlabel('Epoch')\n",
        "plt.ylabel('Loss')\n",
        "plt.legend()\n",
        "plt.grid(True)\n",
        "plt.savefig('loss_plot.png')\n",
        "plt.show()"
      ],
      "metadata": {
        "trusted": true,
        "execution": {
          "iopub.status.busy": "2025-05-18T18:38:28.008510Z",
          "iopub.execute_input": "2025-05-18T18:38:28.008810Z",
          "iopub.status.idle": "2025-05-18T18:38:28.496210Z",
          "shell.execute_reply.started": "2025-05-18T18:38:28.008792Z",
          "shell.execute_reply": "2025-05-18T18:38:28.495301Z"
        },
        "id": "KgX_gsD2a007",
        "outputId": "b038304b-6b98-4a02-d184-acae52d56b9b"
      },
      "outputs": [
        {
          "output_type": "display_data",
          "data": {
            "text/plain": "<Figure size 1000x500 with 1 Axes>",
            "image/png": "[encoded data removed]"
          },
          "metadata": {}
        },
        {
          "output_type": "display_data",
          "data": {
            "text/plain": "<Figure size 1000x500 with 1 Axes>",
            "image/png": "[encoded data removed]"
          },
          "metadata": {}
        }
      ],
      "execution_count": null
    }
  ]
}